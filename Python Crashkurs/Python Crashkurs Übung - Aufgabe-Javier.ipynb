{
 "cells": [
  {
   "cell_type": "markdown",
   "metadata": {},
   "source": [
    "# Python Crashkurs Übung - Lösung\n",
    "\n",
    "Das ist eine optionale Übung, um dein Verständnis der Python Grundlagen zu testen. Wenn du das sehr schwer findest, dann bist du eventuell noch nicht bereit für diesen Kurs. Um die Grundlagen und die Programmiererfahrung zu sammeln, die notwendig sind, um diesen Kurs machen zu können, empfehle ich dir einen anderen meiner Kurse: Das [Python Bootcamp](https://www.udemy.com/originale-python-bootcamp/)"
   ]
  },
  {
   "cell_type": "markdown",
   "metadata": {},
   "source": [
    "## Übung\n",
    "\n",
    "Beantworte die folgenden Fragen oder vervollständige die Anweisungen, die in **fett** geschrieben sind. Nutze außerdem spezielle Methoden, sofern sie angegeben sind."
   ]
  },
  {
   "cell_type": "markdown",
   "metadata": {},
   "source": [
    "**1. Was ist 7 hoch 4?**"
   ]
  },
  {
   "cell_type": "code",
   "execution_count": 1,
   "metadata": {},
   "outputs": [
    {
     "data": {
      "text/plain": [
       "2401"
      ]
     },
     "execution_count": 1,
     "metadata": {},
     "output_type": "execute_result"
    }
   ],
   "source": [
    "7**4"
   ]
  },
  {
   "cell_type": "markdown",
   "metadata": {},
   "source": [
    "**2. Trenne diesen String:**\n",
    "\n",
    "    s = \"Hallo lieber Sam!\"\n",
    "\n",
    "**Das Ergebnis soll eine Liste sein.**"
   ]
  },
  {
   "cell_type": "code",
   "execution_count": 3,
   "metadata": {},
   "outputs": [],
   "source": [
    "s = \"Hallo lieber Sam!\""
   ]
  },
  {
   "cell_type": "code",
   "execution_count": 4,
   "metadata": {},
   "outputs": [
    {
     "data": {
      "text/plain": [
       "['Hallo', 'lieber', 'Sam!']"
      ]
     },
     "execution_count": 4,
     "metadata": {},
     "output_type": "execute_result"
    }
   ],
   "source": [
    "s.split()"
   ]
  },
  {
   "cell_type": "markdown",
   "metadata": {},
   "source": [
    "**3. Gegeben sind die Variablen:**\n",
    "\n",
    "    planet = \"Erde\"\n",
    "    durchschnitt = 12742\n",
    "    \n",
    "**Nutze .format(), um den folgenden String auszugeben:**\n",
    "\n",
    "    Der Durchschnitt der Erde ist 12742 Kilometer."
   ]
  },
  {
   "cell_type": "code",
   "execution_count": 6,
   "metadata": {},
   "outputs": [],
   "source": [
    "planet = \"Erde\"\n",
    "durchschnitt = 12742\n",
    "d = \"Der Durchschnitt der {} ist {} Kilometer\".format(planet, durchschnitt) "
   ]
  },
  {
   "cell_type": "code",
   "execution_count": 12,
   "metadata": {},
   "outputs": [
    {
     "data": {
      "text/plain": [
       "'Der Durchschnitt der Erde ist 12742 Kilometer'"
      ]
     },
     "execution_count": 12,
     "metadata": {},
     "output_type": "execute_result"
    }
   ],
   "source": [
    "d"
   ]
  },
  {
   "cell_type": "markdown",
   "metadata": {},
   "source": [
    "**4. Nutze die Indexierung in der gegebenen verschachtelten Liste um \"Hallo\" auszugeben**"
   ]
  },
  {
   "cell_type": "code",
   "execution_count": 14,
   "metadata": {},
   "outputs": [],
   "source": [
    "lst = [1,2,[3,4],[5,[100,200,['Hallo']],23,11],1,7]"
   ]
  },
  {
   "cell_type": "code",
   "execution_count": 18,
   "metadata": {},
   "outputs": [
    {
     "data": {
      "text/plain": [
       "'Hallo'"
      ]
     },
     "execution_count": 18,
     "metadata": {},
     "output_type": "execute_result"
    }
   ],
   "source": [
    "lst[3][1][2][0]"
   ]
  },
  {
   "cell_type": "markdown",
   "metadata": {},
   "source": [
    "**5. Gegeben dem folgenden Dictionary wollen wir das Wort \"Hallo\" extrahieren. Vorsicht, das wird etwas knifflig!**"
   ]
  },
  {
   "cell_type": "code",
   "execution_count": 24,
   "metadata": {
    "collapsed": true
   },
   "outputs": [],
   "source": [
    "d = {'k1':[1,2,3,{'knifflig':['oh','man','inception',{'ziel':[1,2,3,'Hallo']}]}]}"
   ]
  },
  {
   "cell_type": "code",
   "execution_count": 30,
   "metadata": {},
   "outputs": [
    {
     "data": {
      "text/plain": [
       "'Hallo'"
      ]
     },
     "execution_count": 30,
     "metadata": {},
     "output_type": "execute_result"
    }
   ],
   "source": [
    "d['k1'][3]['knifflig'][3]['ziel'][3]"
   ]
  },
  {
   "cell_type": "markdown",
   "metadata": {},
   "source": [
    "**6. Was ist der Hauptunterschied zwischen einem Tupel und einer Liste?**"
   ]
  },
  {
   "cell_type": "code",
   "execution_count": 31,
   "metadata": {
    "collapsed": true
   },
   "outputs": [],
   "source": [
    "# Tupeln sind unveränderlig"
   ]
  },
  {
   "cell_type": "markdown",
   "metadata": {},
   "source": [
    "**7. Erstelle eine Funktion, die die E-Mail Webseite eines Strings in folgender Form ausgibt:**\n",
    "    \n",
    "    nutzer@webseite.de\n",
    "    \n",
    "**Also z.B. würden wir durch Übergeben von \"nutzer@webseite.de\" das folgende Ergebnis erhalten: webseite.de**"
   ]
  },
  {
   "cell_type": "code",
   "execution_count": 39,
   "metadata": {},
   "outputs": [],
   "source": [
    "webseiteErhalten = lambda email: email.split('@')[1]\n",
    "# oder\n",
    "def webseiteErhalted(email):\n",
    "    return email.split('@')[1]   # oder -1"
   ]
  },
  {
   "cell_type": "code",
   "execution_count": 40,
   "metadata": {},
   "outputs": [
    {
     "data": {
      "text/plain": [
       "'webseite.de'"
      ]
     },
     "execution_count": 40,
     "metadata": {},
     "output_type": "execute_result"
    }
   ],
   "source": [
    "webseiteErhalten(\"nutzer@webseite.de\")"
   ]
  },
  {
   "cell_type": "markdown",
   "metadata": {},
   "source": [
    "**8. Erstelle eine Funktion, die `True` ausgibt, wenn das Wort \"Hund\" in einem String enthalten ist. Achte auf die Groß- und Kleinschreibung.**"
   ]
  },
  {
   "cell_type": "code",
   "execution_count": 74,
   "metadata": {},
   "outputs": [],
   "source": [
    "findeHund = lambda wort: 'Hund' in wort"
   ]
  },
  {
   "cell_type": "code",
   "execution_count": 76,
   "metadata": {},
   "outputs": [
    {
     "data": {
      "text/plain": [
       "False"
      ]
     },
     "execution_count": 76,
     "metadata": {},
     "output_type": "execute_result"
    }
   ],
   "source": [
    "findeHund(\"Gibt es einen hier?\")\n",
    "#findeHund(\"Gibt es hier einen Hund?\")"
   ]
  },
  {
   "cell_type": "markdown",
   "metadata": {},
   "source": [
    "**9. Erstelle eine Funktion, die die Anzahl der Nennungen von \"Hund\" in einem Satz zählt.**"
   ]
  },
  {
   "cell_type": "code",
   "execution_count": 85,
   "metadata": {},
   "outputs": [],
   "source": [
    "anzahlHund = lambda txt: len(txt.split('Hund'))-1\n",
    "\n",
    "def anzahlHund(txt):\n",
    "    anzahl = 0 \n",
    "    for wort in txt.split():\n",
    "        if 'Hund' in wort:\n",
    "            anzahl += 1\n",
    "    return anzahl"
   ]
  },
  {
   "cell_type": "code",
   "execution_count": 86,
   "metadata": {},
   "outputs": [
    {
     "data": {
      "text/plain": [
       "2"
      ]
     },
     "execution_count": 86,
     "metadata": {},
     "output_type": "execute_result"
    }
   ],
   "source": [
    "anzahlHund(\"Dieser Hund rennt so viel schneller als der andere Hund man!\")"
   ]
  },
  {
   "cell_type": "markdown",
   "metadata": {},
   "source": [
    "**10. Nutze Lambda Expressions und die filter() Funktion, um Wörter aus einem Satz zu filtern, die nicht mit \"s\" beginnen. Zum Beispiel:**\n",
    "\n",
    "    seq = [\"suppe\",\"hund\",\"salat\",\"katze\",\"toll\"]\n",
    "    \n",
    "**sollte folgendes ergeben:**\n",
    "\n",
    "    [\"suppe\",\"salat\"]"
   ]
  },
  {
   "cell_type": "code",
   "execution_count": 60,
   "metadata": {},
   "outputs": [],
   "source": [
    "seq = [\"suppe\",\"hund\",\"salat\",\"katze\",\"toll\"]"
   ]
  },
  {
   "cell_type": "code",
   "execution_count": 63,
   "metadata": {},
   "outputs": [
    {
     "data": {
      "text/plain": [
       "['suppe', 'salat']"
      ]
     },
     "execution_count": 63,
     "metadata": {},
     "output_type": "execute_result"
    }
   ],
   "source": [
    "list(filter(lambda w: w[0]=='s', seq))"
   ]
  },
  {
   "cell_type": "markdown",
   "metadata": {},
   "source": [
    "## Finale Aufgabe\n",
    "\n",
    "**Du fährst ein klein wenig zu schnell und ein Polizist hält dich an. Schreibe eine Funktion, die eine der drei folgenden Reaktionen ergibt: \"Kein Strafzettel\", \"Kleiner Strafzettel\", \"Großer Strafzettel\". Wenn deine Geschwindigkeit 100 oder weniger beträgt, dann erhältst du \"Kein Strafzettel\". Für eine Geschwindigkeit zwischen 100 und 120 (inklusive) gibt es \"Kleiner Strafzettel\". Für Geschwindigkeiten über 120 gibt es \"Großer Strafzettel\". Außer es ist dein Geburtstag. Dann drückt der Polizist ein Auge zu und alle Grenzen liegen um 5 höher (Ob du Geburtstag hast ist in einem Boolean angegeben).**"
   ]
  },
  {
   "cell_type": "code",
   "execution_count": 90,
   "metadata": {},
   "outputs": [],
   "source": [
    "def geschwindigkeitskontrolle(geschwindigkeit, geburtstag):\n",
    "    if geburtstag:\n",
    "        geschwindigkeit -= 5\n",
    "    if geschwindigkeit > 120:\n",
    "        return 'Großer Strafzettel'\n",
    "    if geschwindigkeit > 100:\n",
    "        return 'Kleiner Strafzettel'\n",
    "    else:\n",
    "        return 'Kein Strafzettel'"
   ]
  },
  {
   "cell_type": "code",
   "execution_count": 91,
   "metadata": {},
   "outputs": [
    {
     "data": {
      "text/plain": [
       "'Kleiner Strafzettel'"
      ]
     },
     "execution_count": 91,
     "metadata": {},
     "output_type": "execute_result"
    }
   ],
   "source": [
    "geschwindigkeitskontrolle(121,True)"
   ]
  },
  {
   "cell_type": "code",
   "execution_count": 92,
   "metadata": {},
   "outputs": [
    {
     "data": {
      "text/plain": [
       "'Großer Strafzettel'"
      ]
     },
     "execution_count": 92,
     "metadata": {},
     "output_type": "execute_result"
    }
   ],
   "source": [
    "geschwindigkeitskontrolle(121,False)"
   ]
  },
  {
   "cell_type": "markdown",
   "metadata": {},
   "source": [
    "## Gut gemacht!"
   ]
  }
 ],
 "metadata": {
  "kernelspec": {
   "display_name": "Python 3",
   "language": "python",
   "name": "python3"
  },
  "language_info": {
   "codemirror_mode": {
    "name": "ipython",
    "version": 3
   },
   "file_extension": ".py",
   "mimetype": "text/x-python",
   "name": "python",
   "nbconvert_exporter": "python",
   "pygments_lexer": "ipython3",
   "version": "3.6.3"
  }
 },
 "nbformat": 4,
 "nbformat_minor": 2
}
